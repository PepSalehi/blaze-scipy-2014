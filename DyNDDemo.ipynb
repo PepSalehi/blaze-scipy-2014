{
 "metadata": {
  "name": "",
  "signature": "sha256:78e217aa7ee3df73045533e15f2e193afe4c6403c9b5903280a43389b61f5288"
 },
 "nbformat": 3,
 "nbformat_minor": 0,
 "worksheets": [
  {
   "cells": [
    {
     "cell_type": "code",
     "collapsed": false,
     "input": [
      "import os\n",
      "from dynd import nd, ndt"
     ],
     "language": "python",
     "metadata": {},
     "outputs": [],
     "prompt_number": 9
    },
    {
     "cell_type": "code",
     "collapsed": false,
     "input": [
      "ds = open(\"kiva-combined.datashape\").read()\n",
      "print(ds)"
     ],
     "language": "python",
     "metadata": {},
     "outputs": [
      {
       "output_type": "stream",
       "stream": "stdout",
       "text": [
        "var * {\n",
        "    id: int64,\n",
        "    name: string,\n",
        "    description: {\n",
        "        languages: var * string[2],\n",
        "        texts: json # map[string[2] * string]\n",
        "    },\n",
        "    status: string,\n",
        "    funded_amount: float64,\n",
        "    basket_amount: ?float64,\n",
        "    paid_amount: ?float64,\n",
        "    image: {\n",
        "        id: int64,\n",
        "        template_id: int64,\n",
        "    },\n",
        "    video: json, # ?{\n",
        "    #    id: int64,\n",
        "    #    youtube_id: string\n",
        "    #},\n",
        "    activity: string,\n",
        "    sector: string,\n",
        "    use: string,\n",
        "    delinquent: bool,\n",
        "    location: {\n",
        "        country_code: string[2],\n",
        "        country: string,\n",
        "        town: ?string,\n",
        "        geo: {\n",
        "            level: string,\n",
        "            pairs: string,\n",
        "            type: string,\n",
        "        }\n",
        "    },\n",
        "    partner_id: int64,\n",
        "    posted_date: ?datetime,\n",
        "    planned_expiration_date: ?datetime,\n",
        "    loan_amount: float64,\n",
        "    currency_exchange_loss_amount: ?float64,\n",
        "    borrowers: var * {\n",
        "        first_name: string,\n",
        "        last_name: string,\n",
        "        gender: string[1], # GenderType\n",
        "        pictured: bool,\n",
        "    },\n",
        "    terms: {\n",
        "        disbursal_date: ?datetime,\n",
        "        disbursal_currency: ?string,\n",
        "        disbursal_amount: float64,\n",
        "        loan_amount: float64,\n",
        "        local_payments: var * {\n",
        "            due_date: datetime,\n",
        "            amount: float64,\n",
        "        },\n",
        "        scheduled_payments: var * {\n",
        "            due_date: datetime,\n",
        "            amount: float64,\n",
        "        },\n",
        "        loss_liability: {\n",
        "            nonpayment: string, # categorical[string, [\\\"lender\\\", \\\"partner\\\"]],\n",
        "            currency_exchange: string,\n",
        "            currency_exchange_coverage_rate: ?float64,\n",
        "        }\n",
        "    },\n",
        "    payments: var * {\n",
        "        amount: float64,\n",
        "        local_amount: float64,\n",
        "        processed_date: datetime,\n",
        "        settlement_date: datetime,\n",
        "        rounded_local_amount: float64,\n",
        "        currency_exchange_loss_amount: float64,\n",
        "        payment_id: int64,\n",
        "        comment: ?string,\n",
        "    },\n",
        "    funded_date: ?datetime,\n",
        "    paid_date: ?datetime,\n",
        "    journal_totals: {\n",
        "        entries: int64,\n",
        "        bulkEntries: int64,\n",
        "    }\n",
        "}\n",
        "\n"
       ]
      }
     ],
     "prompt_number": 6
    },
    {
     "cell_type": "code",
     "collapsed": false,
     "input": [
      "os.path.getsize(\"kiva-combined.json\")"
     ],
     "language": "python",
     "metadata": {},
     "outputs": [
      {
       "metadata": {},
       "output_type": "pyout",
       "prompt_number": 10,
       "text": [
        "47648784"
       ]
      }
     ],
     "prompt_number": 10
    },
    {
     "cell_type": "code",
     "collapsed": false,
     "input": [
      "raw = nd.memmap(\"kiva-combined.json\")\n",
      "raw"
     ],
     "language": "python",
     "metadata": {},
     "outputs": [
      {
       "metadata": {},
       "output_type": "pyout",
       "prompt_number": 11,
       "text": [
        "nd.array(5b7b226964223a38342c226e616d65223a224a ... 5d,\n",
        "         type=\"bytes\")"
       ]
      }
     ],
     "prompt_number": 11
    },
    {
     "cell_type": "code",
     "collapsed": false,
     "input": [
      "x = nd.parse_json(ds, raw)"
     ],
     "language": "python",
     "metadata": {},
     "outputs": [],
     "prompt_number": 13
    },
    {
     "cell_type": "code",
     "collapsed": false,
     "input": [
      "len(x)"
     ],
     "language": "python",
     "metadata": {},
     "outputs": [
      {
       "metadata": {},
       "output_type": "pyout",
       "prompt_number": 14,
       "text": [
        "10000"
       ]
      }
     ],
     "prompt_number": 14
    },
    {
     "cell_type": "code",
     "collapsed": false,
     "input": [
      "x.name"
     ],
     "language": "python",
     "metadata": {},
     "outputs": [
      {
       "metadata": {},
       "output_type": "pyout",
       "prompt_number": 16,
       "text": [
        "nd.array([      \"Justine\",      \"Geoffrey\",        \"Apollo\",        \"Eunice\",\n",
        "                   \"Rose\",     \"Christine\",     \"Elizabeth\",         \"Betty\",\n",
        "                  \"Benna\",         \"Henry\",       \"Charles\",       \"Gregory\",\n",
        "                \"Charles\",        \"Haggai\",         \"Simon\",     \"Anonymous\",\n",
        "                 \"Angela\",          \"Jane\",         \"Irene\",         \"Agnes\",\n",
        "                \"Patrick\",      \"Veronica\",       \"Modesta\",         \"Yosia\",\n",
        "          ...\n",
        "                  \"Radil\",         \"Yaver\", \"Bisansio Juma\",     \"Muradkhan\",\n",
        "                   \"Rose\",      \"Farzhana\",       \"Tamasha\",          \"Mark\",\n",
        "                 \"Norzia\",        \"Roshel\",       \"Nor Zia\",        \"Sahila\",\n",
        "                \"Tariyel\",        \"Nagiba\",       \"Palosha\",        \"Nagiba\",\n",
        "              \"Anonymous\",     \"Anonymous\",         \"Nadia\",     \"Anonymous\"],\n",
        "         type=\"strided * string\")"
       ]
      }
     ],
     "prompt_number": 16
    },
    {
     "cell_type": "code",
     "collapsed": false,
     "input": [
      "x.terms.loan_amount"
     ],
     "language": "python",
     "metadata": {},
     "outputs": [
      {
       "metadata": {},
       "output_type": "pyout",
       "prompt_number": 18,
       "text": [
        "nd.array([ 500,  500,  500,  300,  500,  300,  500,  500,  500,  500,  500,  500,\n",
        "           500,  500,  500, 2000,  500,  300,  500,  300,  500,  300,  300,  500,\n",
        "           500,  500,  300,  300,  500,  500,  500,  500,  300,  500,  500,  500,\n",
        "           500,  300,  500,  500,  500,  500,  500,  500,  500,  500,  300,  500,\n",
        "           500,  500,  500,  500,  300,  500,  500,  600,  600,  800, 1000,  500,\n",
        "          ...\n",
        "           800,  750, 1000,  800, 1000,  275,  700,  475,  375, 1200, 1200,  475,\n",
        "          1200, 1200, 1200,  550,  475, 1200,  925,  200,  375,  475,  375, 1200,\n",
        "           275,  550,  275, 1200,  800,  800,  750,  750,  800,  925,  800,  200,\n",
        "           150,  825, 1200, 1200,  400,  800,  300, 1000,  300,  175,  800,  150,\n",
        "           175,  225,  175,  325,  600,  175,  175,  175,  800,  750,  175,  875],\n",
        "         type=\"strided * float64\")"
       ]
      }
     ],
     "prompt_number": 18
    },
    {
     "cell_type": "code",
     "collapsed": false,
     "input": [
      "x.payments.settlement_date"
     ],
     "language": "python",
     "metadata": {},
     "outputs": [
      {
       "metadata": {},
       "output_type": "pyout",
       "prompt_number": 19,
       "text": [
        "nd.array([[2010-06-29T01:11:54, 2010-06-29T01:11:54, 2010-06-29T01:11:55,\n",
        "           2010-06-29T01:11:55, 2010-06-29T01:11:55, 2010-06-29T01:11:55,\n",
        "           2010-06-29T01:11:55, 2010-06-29T01:11:55, 2010-06-29T01:11:55],\n",
        "          [2010-06-29T01:11:55, 2010-06-29T01:11:55, 2010-06-29T01:11:55,\n",
        "           2010-06-29T01:11:55, 2010-06-29T01:11:55, 2010-06-29T01:11:55,\n",
        "           2010-06-29T01:11:55, 2010-06-29T01:11:55, 2010-06-29T01:11:55],\n",
        "          [2010-06-29T01:11:55, 2010-06-29T01:11:55, 2010-06-29T01:11:55,\n",
        "           2010-06-29T01:11:55, 2010-06-29T01:11:55, 2010-06-29T01:11:55,\n",
        "           2010-06-29T01:11:55, 2010-06-29T01:11:55, 2010-06-29T01:11:55],\n",
        "          ...\n",
        "          [2008-04-24T03:11:25, 2008-04-24T03:11:25, 2008-04-24T03:11:25]],\n",
        "         type=\"strided * var * datetime\")"
       ]
      }
     ],
     "prompt_number": 19
    },
    {
     "cell_type": "code",
     "collapsed": false,
     "input": [
      "x[752]"
     ],
     "language": "python",
     "metadata": {},
     "outputs": [
      {
       "metadata": {},
       "output_type": "pyout",
       "prompt_number": 23,
       "text": [
        "nd.array([864, \"Anonymous\", [[\"en\"], \"{\\\"en\\\":\\\"\\\"}\"], \"refunded\", 0, NA, NA, [726677, 1], \"null\", \"Agriculture\", \"Agriculture\", \"To improve on the agric farm\", false, [\"UG\", \"Uganda\", NA, [\"country\", \"2 33\", \"point\"]], 11, 2006-10-12T06:12:33, NA, 600, NA, [[\"Anonymous\", \"\", \"M\", true]], [2006-10-29T23:10:01, \"USD\", 600, 600, [[2006-11-29T08:00, 100], [2006-12-29T08:00, 100], [2007-01-29T08:00, 100],\n",
        "          [2007-02-28T08:00, 100], [2007-03-29T07:00, 100], [2007-04-29T07:00, 100]], [[2007-01-16T08:00, 100], [2007-02-16T08:00, 100], [2007-03-16T07:00, 100],\n",
        "          [2007-04-16T07:00, 100], [2007-05-16T07:00, 100], [2007-06-16T07:00, 100]], [\"lender\", \"none\", NA]], ], 2006-10-15T22:10:01, NA, [1, 0]],\n",
        "         type=\"{id : int64, name : string, description : {languages : var * string[2], texts : json}, status : string, funded_amount : float64, basket_amount : ?float64, paid_amount : ?float64, image : {id : int64, template_id : int64}, video : json, activity : string, sector : string, use : string, delinquent : bool, location : {country_code : string[2], country : string, town : ?string, geo : {level : string, pairs : string, type : string}}, partner_id : int64, posted_date : ?datetime, planned_expiration_date : ?datetime, loan_amount : float64, currency_exchange_loss_amount : ?float64, borrowers : var * {first_name : string, last_name : string, gender : string[1], pictured : bool}, terms : {disbursal_date : ?datetime, disbursal_currency : ?string, disbursal_amount : float64, loan_amount : float64, local_payments : var * {due_date : datetime, amount : float64}, scheduled_payments : var * {due_date : datetime, amount : float64}, loss_liability : {nonpayment : string, currency_exchange : string, currency_exchange_coverage_rate : ?float64}}, payments : var * {amount : float64, local_amount : float64, processed_date : datetime, settlement_date : datetime, rounded_local_amount : float64, currency_exchange_loss_amount : float64, payment_id : int64, comment : ?string}, funded_date : ?datetime, paid_date : ?datetime, journal_totals : {entries : int64, bulkEntries : int64}}\")"
       ]
      }
     ],
     "prompt_number": 23
    },
    {
     "cell_type": "code",
     "collapsed": false,
     "input": [],
     "language": "python",
     "metadata": {},
     "outputs": []
    }
   ],
   "metadata": {}
  }
 ]
}