{
 "metadata": {
  "name": "",
  "signature": "sha256:95b640273b8b754394ca91b15304b0d72faaadd7ea5b09a4fcf690c328b48775"
 },
 "nbformat": 3,
 "nbformat_minor": 0,
 "worksheets": [
  {
   "cells": [
    {
     "cell_type": "markdown",
     "metadata": {},
     "source": [
      "# `blaze.expr` and `blaze.compute`"
     ]
    },
    {
     "cell_type": "code",
     "collapsed": false,
     "input": [
      "from blaze import *"
     ],
     "language": "python",
     "metadata": {},
     "outputs": []
    },
    {
     "cell_type": "code",
     "collapsed": false,
     "input": [
      "# Symbolic expression\n",
      "accounts = TableSymbol('accounts', schema= '{id: int, name: string, balance: float64}')"
     ],
     "language": "python",
     "metadata": {},
     "outputs": []
    },
    {
     "cell_type": "code",
     "collapsed": false,
     "input": [
      "# Actual data\n",
      "L = [(1, 'Alice', 100),\n",
      "     (2, 'Bob', -200),\n",
      "     (3, 'Charlie', 300),\n",
      "     (4, 'Denis', 400),\n",
      "     (5, 'Edith', -500)]"
     ],
     "language": "python",
     "metadata": {},
     "outputs": []
    },
    {
     "cell_type": "markdown",
     "metadata": {},
     "source": [
      "## Symbolic manipulations"
     ]
    },
    {
     "cell_type": "code",
     "collapsed": false,
     "input": [
      "accounts.columns"
     ],
     "language": "python",
     "metadata": {},
     "outputs": []
    },
    {
     "cell_type": "code",
     "collapsed": false,
     "input": [
      "# Make a symbolic expression\n",
      "\n",
      "deadbeats = accounts[accounts['balance'] < 0]['name']\n",
      "deadbeats"
     ],
     "language": "python",
     "metadata": {},
     "outputs": []
    },
    {
     "cell_type": "markdown",
     "metadata": {},
     "source": [
      "## Inspect expression"
     ]
    },
    {
     "cell_type": "code",
     "collapsed": false,
     "input": [
      "deadbeats.schema"
     ],
     "language": "python",
     "metadata": {},
     "outputs": []
    },
    {
     "cell_type": "code",
     "collapsed": false,
     "input": [
      "# What kind of thing is `deadbeats`?\n",
      "\n",
      "from blaze.expr.core import Expr\n",
      "\n",
      "def tuplify(expr):\n",
      "    if not isinstance(expr, Expr):\n",
      "        return expr\n",
      "    else:\n",
      "        return (type(expr).__name__,) + tuple(map(tuplify, expr.args))\n",
      "\n",
      "tuplify(deadbeats)"
     ],
     "language": "python",
     "metadata": {},
     "outputs": []
    },
    {
     "cell_type": "markdown",
     "metadata": {},
     "source": [
      "## Compute against Python"
     ]
    },
    {
     "cell_type": "code",
     "collapsed": false,
     "input": [
      "# Compute deadbeats against L\n",
      "compute(deadbeats, L)"
     ],
     "language": "python",
     "metadata": {},
     "outputs": []
    },
    {
     "cell_type": "markdown",
     "metadata": {},
     "source": [
      "## Compute against Pandas"
     ]
    },
    {
     "cell_type": "code",
     "collapsed": false,
     "input": [
      "from pandas import DataFrame\n",
      "df = DataFrame(L, columns=['id', 'name', 'balance'])\n",
      "df"
     ],
     "language": "python",
     "metadata": {},
     "outputs": []
    },
    {
     "cell_type": "code",
     "collapsed": false,
     "input": [
      "compute(deadbeats, df)"
     ],
     "language": "python",
     "metadata": {},
     "outputs": []
    },
    {
     "cell_type": "markdown",
     "metadata": {},
     "source": [
      "### Spark"
     ]
    },
    {
     "cell_type": "code",
     "collapsed": false,
     "input": [
      "from blaze.spark import *"
     ],
     "language": "python",
     "metadata": {},
     "outputs": []
    },
    {
     "cell_type": "code",
     "collapsed": false,
     "input": [
      "import pyspark\n",
      "sc = pyspark.SparkContext('local', 'Spark-app')\n",
      "rdd = sc.parallelize(L)"
     ],
     "language": "python",
     "metadata": {},
     "outputs": []
    },
    {
     "cell_type": "code",
     "collapsed": false,
     "input": [
      "compute(deadbeats, rdd).collect()"
     ],
     "language": "python",
     "metadata": {},
     "outputs": []
    },
    {
     "cell_type": "markdown",
     "metadata": {},
     "source": [
      "### SQLAlchemy"
     ]
    },
    {
     "cell_type": "code",
     "collapsed": false,
     "input": [
      "from blaze.sql import *\n",
      "sql = SQL('sqlite:///accounts.db', 'accounts')\n",
      "sql.engine"
     ],
     "language": "python",
     "metadata": {},
     "outputs": []
    },
    {
     "cell_type": "code",
     "collapsed": false,
     "input": [
      "# Compute deadbeats against sql \n",
      "from blaze.compute.sql import select\n",
      "print(select(compute(deadbeats, sql.table)))"
     ],
     "language": "python",
     "metadata": {},
     "outputs": []
    },
    {
     "cell_type": "code",
     "collapsed": false,
     "input": [
      "compute(deadbeats, sql)"
     ],
     "language": "python",
     "metadata": {},
     "outputs": []
    },
    {
     "cell_type": "markdown",
     "metadata": {},
     "source": [
      "## Demonstrate complexity"
     ]
    },
    {
     "cell_type": "code",
     "collapsed": false,
     "input": [
      "cities_list = [(1, 'NYC'),\n",
      "               (1, 'Boston'),\n",
      "               (2, 'LA'),\n",
      "               (3, 'Beijing'),\n",
      "               (3, 'Shanghai'),\n",
      "               (4, 'Moscow'),\n",
      "               (5, 'Paris'),\n",
      "               (5, 'Berlin')]\n",
      "\n",
      "schema = '{id: int, city: string}'"
     ],
     "language": "python",
     "metadata": {},
     "outputs": []
    },
    {
     "cell_type": "code",
     "collapsed": false,
     "input": [
      "cities_sql = into(SQL('sqlite:///accounts.db', 'cities', schema=schema),\n",
      "                  cities_list)"
     ],
     "language": "python",
     "metadata": {},
     "outputs": []
    },
    {
     "cell_type": "code",
     "collapsed": false,
     "input": [
      "cities_df = into(DataFrame(columns=['id', 'city']), \n",
      "                 cities_list)\n",
      "cities_df"
     ],
     "language": "python",
     "metadata": {},
     "outputs": []
    },
    {
     "cell_type": "code",
     "collapsed": false,
     "input": [
      "cities_rdd = into(sc, cities_list)"
     ],
     "language": "python",
     "metadata": {},
     "outputs": []
    },
    {
     "cell_type": "code",
     "collapsed": false,
     "input": [
      "# Abstract bit\n",
      "\n",
      "cities = TableSymbol('cities', schema)\n",
      "deadbeat_cities = Join(accounts[accounts['balance'] < 0],\n",
      "                       cities, \n",
      "                       'id')[['name', 'city']]"
     ],
     "language": "python",
     "metadata": {},
     "outputs": []
    },
    {
     "cell_type": "code",
     "collapsed": false,
     "input": [
      "list(compute(deadbeat_cities, {cities: cities_list, \n",
      "                               accounts: L}))"
     ],
     "language": "python",
     "metadata": {},
     "outputs": []
    },
    {
     "cell_type": "code",
     "collapsed": false,
     "input": [
      "compute(deadbeat_cities, {cities: cities_df, \n",
      "                          accounts: df})"
     ],
     "language": "python",
     "metadata": {},
     "outputs": []
    },
    {
     "cell_type": "code",
     "collapsed": false,
     "input": [
      "print(compute(deadbeat_cities, {cities: cities_sql.table, \n",
      "                                accounts: sql.table}))"
     ],
     "language": "python",
     "metadata": {},
     "outputs": []
    },
    {
     "cell_type": "code",
     "collapsed": false,
     "input": [
      "compute(deadbeat_cities, {cities: cities_rdd, \n",
      "                          accounts: rdd}).collect()"
     ],
     "language": "python",
     "metadata": {},
     "outputs": []
    },
    {
     "cell_type": "code",
     "collapsed": false,
     "input": [],
     "language": "python",
     "metadata": {},
     "outputs": []
    }
   ],
   "metadata": {}
  }
 ]
}