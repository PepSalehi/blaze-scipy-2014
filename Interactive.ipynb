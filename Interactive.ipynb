{
 "metadata": {
  "name": "",
  "signature": "sha256:0b3ed023ebb21bacf3aa8adcf3ab305b9029b332b1dee6d3af11b3358454738a"
 },
 "nbformat": 3,
 "nbformat_minor": 0,
 "worksheets": [
  {
   "cells": [
    {
     "cell_type": "markdown",
     "metadata": {},
     "source": [
      "# Interactive Table object"
     ]
    },
    {
     "cell_type": "code",
     "collapsed": false,
     "input": [
      "from blaze import *"
     ],
     "language": "python",
     "metadata": {},
     "outputs": [
      {
       "output_type": "stream",
       "stream": "stderr",
       "text": [
        "/home/mrocklin/Software/anaconda/lib/python2.7/site-packages/pandas/io/excel.py:626: UserWarning: Installed openpyxl is not supported at this time. Use >=1.6.1 and <2.0.0.\n",
        "  .format(openpyxl_compat.start_ver, openpyxl_compat.stop_ver))\n"
       ]
      }
     ],
     "prompt_number": 1
    },
    {
     "cell_type": "code",
     "collapsed": false,
     "input": [
      "from blaze.sql import *"
     ],
     "language": "python",
     "metadata": {},
     "outputs": [],
     "prompt_number": 2
    },
    {
     "cell_type": "code",
     "collapsed": false,
     "input": [
      "sql = SQL('postgresql://postgres@localhost:5432','user_edges')\n",
      "T = Table(sql)\n",
      "T"
     ],
     "language": "python",
     "metadata": {},
     "outputs": [
      {
       "output_type": "stream",
       "stream": "stderr",
       "text": [
        "/home/mrocklin/Software/anaconda/lib/python2.7/site-packages/sqlalchemy/dialects/postgresql/base.py:1913: SAWarning: Did not recognize type 'geometry' of column 'pickup_geom'\n",
        "  name, format_type, default, notnull, domains, enums, schema)\n",
        "/home/mrocklin/Software/anaconda/lib/python2.7/site-packages/sqlalchemy/dialects/postgresql/base.py:1913: SAWarning: Did not recognize type 'geometry' of column 'dropoff_geom'\n",
        "  name, format_type, default, notnull, domains, enums, schema)\n"
       ]
      },
      {
       "metadata": {},
       "output_type": "pyout",
       "prompt_number": 3,
       "text": [
        "    transaction   sender  recipient           timestamp     value\n",
        "0          5808  1116960      29076 2013-04-04 23:02:01  0.000008\n",
        "1          5808  1116960         29 2013-04-04 23:02:01  0.000155\n",
        "2          5808  1116960    1117158 2013-04-04 23:02:01  0.000082\n",
        "3          5808  1116960         74 2013-04-04 23:02:01  0.000082\n",
        "4          5808  1116960     876906 2013-04-04 23:02:01  0.000016\n",
        "5          5808  1116960    1107915 2013-04-04 23:02:01  0.000008\n",
        "6          5808  1116960         74 2013-04-04 23:02:01  0.000008\n",
        "7          5808  1116960    1117161 2013-04-04 23:02:01  0.000082\n",
        "8          5808  1116960    1063247 2013-04-04 23:02:01  0.000008\n",
        "9          5808  1116960       4718 2013-04-04 23:02:01  0.000016\n",
        "..."
       ]
      }
     ],
     "prompt_number": 3
    },
    {
     "cell_type": "code",
     "collapsed": false,
     "input": [
      "T[T['value'] > 10000]"
     ],
     "language": "python",
     "metadata": {},
     "outputs": [
      {
       "metadata": {},
       "output_type": "pyout",
       "prompt_number": 5,
       "text": [
        "    transaction   sender  recipient           timestamp         value\n",
        "0         22282  5087164    5086946 2012-08-29 15:17:28  20402.222988\n",
        "1         39749       11     810460 2013-04-09 20:27:12  15807.000000\n",
        "2         39750   810460     810460 2013-04-10 09:24:56  15774.718400\n",
        "3         54759  4052660    4052725 2011-06-25 11:50:12  45316.777000\n",
        "4         57786   827723     827724 2013-04-10 05:20:42  10983.624543\n",
        "5         57964  1942561     827723 2013-03-09 08:18:25  10995.875043\n",
        "6         92923       11         11 2013-04-09 20:22:48  15810.454615\n",
        "7        107205  2885747    2885503 2011-06-26 09:52:53  30599.544000\n",
        "8        117029    13527     876528 2013-04-09 16:14:14  12500.000000\n",
        "9        117032    13527        917 2013-03-04 09:47:21  10000.040413\n",
        "..."
       ]
      }
     ],
     "prompt_number": 5
    },
    {
     "cell_type": "code",
     "collapsed": false,
     "input": [
      "By(T,\n",
      "   T['sender'],\n",
      "   T['value'].sum())"
     ],
     "language": "python",
     "metadata": {},
     "outputs": [
      {
       "metadata": {},
       "output_type": "pyout",
       "prompt_number": 6,
       "text": [
        "    sender           value\n",
        "0        1   109538.559644\n",
        "1        2     2419.627593\n",
        "2        3      250.928718\n",
        "3        4   217237.798219\n",
        "4        5      317.999500\n",
        "5        6        9.907787\n",
        "6        7   365259.077347\n",
        "7        8       93.578425\n",
        "8        9      128.647525\n",
        "9       10        2.810000\n",
        "..."
       ]
      }
     ],
     "prompt_number": 6
    },
    {
     "cell_type": "code",
     "collapsed": false,
     "input": [
      "print compute(By(T,\n",
      "              T['sender'],\n",
      "              T['value'].sum()).head(10), \n",
      "              T.data.table)"
     ],
     "language": "python",
     "metadata": {},
     "outputs": [
      {
       "output_type": "stream",
       "stream": "stdout",
       "text": [
        "SELECT user_edges.sender, sum(user_edges.value) AS value \n",
        "FROM user_edges GROUP BY user_edges.sender\n",
        " LIMIT :param_1\n"
       ]
      }
     ],
     "prompt_number": 7
    },
    {
     "cell_type": "code",
     "collapsed": false,
     "input": [
      "T = Table(CSV('trip_fare_1.csv', \n",
      "           columns=['medallion', 'hack_license', 'vendor_id', 'pickup_datetime', 'payment_type',\n",
      "                    'fare_amount', 'surcharge', 'mta_tax', 'tip_amount', 'tolls_amount', 'total_amount'],\n",
      "           typehints={'tip_amount': 'real'}))"
     ],
     "language": "python",
     "metadata": {},
     "outputs": [],
     "prompt_number": 8
    },
    {
     "cell_type": "code",
     "collapsed": false,
     "input": [
      "T"
     ],
     "language": "python",
     "metadata": {},
     "outputs": [
      {
       "metadata": {},
       "output_type": "pyout",
       "prompt_number": 9,
       "text": [
        "                           medallion                      hack_license  \\\n",
        "0   89D227B655E5C82AECF13C3F540D4CF4  BA96DE419E711691B9445D6A6307C170   \n",
        "1   0BD7C8F5BA12B88E0B67BED28BEA73D8  9FD8F69F0804BDB5549F40E9DA1BE472   \n",
        "2   0BD7C8F5BA12B88E0B67BED28BEA73D8  9FD8F69F0804BDB5549F40E9DA1BE472   \n",
        "3   DFD2202EE08F7A8DC9A57B02ACB81FE2  51EE87E3205C985EF8431D850C786310   \n",
        "4   DFD2202EE08F7A8DC9A57B02ACB81FE2  51EE87E3205C985EF8431D850C786310   \n",
        "5   20D9ECB2CA0767CF7A01564DF2844A3E  598CCE5B9C1918568DEE71F43CF26CD2   \n",
        "6   496644932DF3932605C22C7926FF0FE0  513189AD756FF14FE670D10B92FAF04C   \n",
        "7   0B57B9633A2FECD3D3B1944AFC7471CF  CCD4367B417ED6634D986F573A552A62   \n",
        "8   2C0E91FF20A856C891483ED63589F982  1DA2F6543A62B8ED934771661A9D2FA0   \n",
        "9   2D4B95E2FA7B2E85118EC5CA4570FA58  CD2F522EEE1FF5F5A8D8B679E23576B3   \n",
        "10  E12F6AF991172EAC3553144A0AF75A19  06918214E951FA0003D1CC54955C2AB0   \n",
        "\n",
        "   vendor_id     pickup_datetime payment_type  fare_amount  surcharge  \\\n",
        "0        CMT 2013-01-01 15:11:48          CSH          6.5        0.0   \n",
        "1        CMT 2013-01-06 00:18:35          CSH          6.0        0.5   \n",
        "2        CMT 2013-01-05 18:49:41          CSH          5.5        1.0   \n",
        "3        CMT 2013-01-07 23:54:15          CSH          5.0        0.5   \n",
        "4        CMT 2013-01-07 23:25:03          CSH          9.5        0.5   \n",
        "5        CMT 2013-01-07 15:27:48          CSH          9.5        0.0   \n",
        "6        CMT 2013-01-08 11:01:15          CSH          6.0        0.0   \n",
        "7        CMT 2013-01-07 12:39:18          CSH         34.0        0.0   \n",
        "8        CMT 2013-01-07 18:15:47          CSH          5.5        1.0   \n",
        "9        CMT 2013-01-07 15:33:28          CSH         13.0        0.0   \n",
        "10       CMT 2013-01-08 13:11:52          CSH          7.5        0.0   \n",
        "\n",
        "    mta_tax  tip_amount  tolls_amount  total_amount  \n",
        "0       0.5           0           0.0           7.0  \n",
        "1       0.5           0           0.0           7.0  \n",
        "2       0.5           0           0.0           7.0  \n",
        "3       0.5           0           0.0           6.0  \n",
        "4       0.5           0           0.0          10.5  \n",
        "5       0.5           0           0.0          10.0  \n",
        "6       0.5           0           0.0           6.5  \n",
        "7       0.5           0           4.8          39.3  \n",
        "8       0.5           0           0.0           7.0  \n",
        "9       0.5           0           0.0          13.5  \n",
        "..."
       ]
      }
     ],
     "prompt_number": 9
    },
    {
     "cell_type": "code",
     "collapsed": false,
     "input": [
      "T = T.head(1000)"
     ],
     "language": "python",
     "metadata": {},
     "outputs": []
    },
    {
     "cell_type": "code",
     "collapsed": false,
     "input": [
      "By(T, T['medallion'], T['total_amount'].max()).sort('total_amount', ascending=False)"
     ],
     "language": "python",
     "metadata": {},
     "outputs": []
    },
    {
     "cell_type": "code",
     "collapsed": false,
     "input": [],
     "language": "python",
     "metadata": {},
     "outputs": []
    }
   ],
   "metadata": {}
  }
 ]
}