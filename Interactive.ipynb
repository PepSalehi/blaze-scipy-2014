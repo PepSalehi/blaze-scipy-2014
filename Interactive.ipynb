{
 "metadata": {
  "name": "",
  "signature": "sha256:5e846ecf34780e278c9fb589881ad022376a0f12c8fbd86b7f2c0935ed4983c6"
 },
 "nbformat": 3,
 "nbformat_minor": 0,
 "worksheets": [
  {
   "cells": [
    {
     "cell_type": "code",
     "collapsed": false,
     "input": [
      "from blaze import *"
     ],
     "language": "python",
     "metadata": {},
     "outputs": [],
     "prompt_number": 9
    },
    {
     "cell_type": "code",
     "collapsed": false,
     "input": [
      "from blaze.sql import *"
     ],
     "language": "python",
     "metadata": {},
     "outputs": [],
     "prompt_number": 10
    },
    {
     "cell_type": "code",
     "collapsed": false,
     "input": [
      "sql = SQL('postgresql://postgres@localhost:5432','user_edges')\n",
      "T = Table(sql)\n",
      "T"
     ],
     "language": "python",
     "metadata": {},
     "outputs": [
      {
       "metadata": {},
       "output_type": "pyout",
       "prompt_number": 11,
       "text": [
        "    transaction  sender  recipient           timestamp     value\n",
        "0          4464  193558      11162 2012-12-30 03:47:12  1.008263\n",
        "1          4464  193558         11 2012-12-30 03:47:12  0.121720\n",
        "2          4464  193558    3383648 2012-12-30 03:47:12  0.050815\n",
        "3          4464  193558      16143 2012-12-30 03:47:12  0.106378\n",
        "4          4464  193558      11708 2012-12-30 03:47:12  0.410632\n",
        "5          4464  193558        334 2012-12-30 03:47:12  4.364051\n",
        "6          4464  193558     144324 2012-12-30 03:47:12  0.011394\n",
        "7          4464  193558    2619466 2012-12-30 03:47:12  0.501401\n",
        "8          4464  193558     144515 2012-12-30 03:47:12  0.107700\n",
        "9          4464  193558     193558 2012-12-30 03:47:12  6.596315\n",
        "..."
       ]
      }
     ],
     "prompt_number": 11
    },
    {
     "cell_type": "code",
     "collapsed": false,
     "input": [
      "T[T['value'] > 1000]"
     ],
     "language": "python",
     "metadata": {},
     "outputs": [
      {
       "metadata": {},
       "output_type": "pyout",
       "prompt_number": 12,
       "text": [
        "    transaction   sender  recipient           timestamp        value\n",
        "0          4517  1166049    1166050 2013-04-03 23:31:17  1097.967448\n",
        "1          4595  2921363    2921205 2011-06-23 00:49:40  1205.533178\n",
        "2          4689       11         11 2013-04-10 13:25:26  1055.428503\n",
        "3          4997        4        628 2013-04-10 13:53:33  7723.000000\n",
        "4          5864    63626     786667 2011-05-30 12:46:37  9000.000000\n",
        "5          5865   786667     786668 2013-04-10 13:53:13  7000.000000\n",
        "6          5865   786667     786669 2013-04-10 13:53:13  2000.000000\n",
        "7          5889     2288     786678 2013-04-10 12:25:26  3000.000000\n",
        "8          5890   786678     786679 2013-04-10 13:53:13  1625.844087\n",
        "9          5890   786678     786680 2013-04-10 13:53:13  1374.155913\n",
        "..."
       ]
      }
     ],
     "prompt_number": 12
    },
    {
     "cell_type": "code",
     "collapsed": false,
     "input": [
      "By(T,\n",
      "   T['sender'],\n",
      "   T['value'].sum())"
     ],
     "language": "python",
     "metadata": {},
     "outputs": [
      {
       "metadata": {},
       "output_type": "pyout",
       "prompt_number": 13,
       "text": [
        "    sender           value\n",
        "0        1   109538.559644\n",
        "1        2     2419.627593\n",
        "2        3      250.928718\n",
        "3        4   217237.798219\n",
        "4        5      317.999500\n",
        "5        6        9.907787\n",
        "6        7   365259.077347\n",
        "7        8       93.578425\n",
        "8        9      128.647525\n",
        "9       10        2.810000\n",
        "..."
       ]
      }
     ],
     "prompt_number": 13
    },
    {
     "cell_type": "code",
     "collapsed": false,
     "input": [
      "print compute(By(T,\n",
      "              T['sender'],\n",
      "              T['value'].sum()).head(10), \n",
      "              T.data.table)"
     ],
     "language": "python",
     "metadata": {},
     "outputs": [
      {
       "output_type": "stream",
       "stream": "stdout",
       "text": [
        "SELECT user_edges.sender, sum(user_edges.value) AS value \n",
        "FROM user_edges GROUP BY user_edges.sender\n",
        " LIMIT :param_1\n"
       ]
      }
     ],
     "prompt_number": 14
    }
   ],
   "metadata": {}
  }
 ]
}